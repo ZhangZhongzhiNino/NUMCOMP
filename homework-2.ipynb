{
 "cells": [
  {
   "cell_type": "markdown",
   "metadata": {},
   "source": [
    "Before you turn this problem in, make sure everything runs as expected. First, **restart the kernel** (in the menubar, select Kernel$\\rightarrow$Restart) and then **run all cells** (in the menubar, select Cell$\\rightarrow$Run All).\n",
    "\n",
    "Make sure you fill in any place that says `YOUR CODE HERE` or \"YOUR ANSWER HERE\", as well as your name and collaborators below:"
   ]
  },
  {
   "cell_type": "code",
   "execution_count": null,
   "metadata": {},
   "outputs": [],
   "source": [
    "NAME = \"Zhongzhi Zhang\"\n",
    "COLLABORATORS = \"\""
   ]
  },
  {
   "cell_type": "markdown",
   "metadata": {},
   "source": [
    "---"
   ]
  },
  {
   "cell_type": "markdown",
   "metadata": {
    "deletable": false,
    "editable": false,
    "nbgrader": {
     "cell_type": "markdown",
     "checksum": "d68d1d1eef3935077c9a16009af4a702",
     "grade": false,
     "grade_id": "cell-d9703e24f12050ee",
     "locked": true,
     "schema_version": 3,
     "solution": false
    }
   },
   "source": [
    "# Orthogonal Polynomials\n",
    "\n",
    "In this homework, we will construct polynomials using orthogonality with respect to an integral inner product.\n",
    "For example, given functions $u(x)$ and $v(x)$, we define their inner product to be\n",
    "$$ \\langle u, v \\rangle = \\int_{-1}^1 u(x) v(x) \\mathrm{d} x $$\n",
    "where we use the notation $\\langle u, v \\rangle$ to distinguish this continuous inner product from the discrete inner product $u^T v$ of vectors.\n",
    "This is known as the $L^2$ inner product on the domain $(-1,1)$, which is a Hilbert space and an [$L^p$ space](https://en.wikipedia.org/wiki/Lp_space).  The study of such generalizations of linear algebraic concepts is called Functional Analysis, an advanced mathematical topic that is used in numerical analysis.  We will only need the above definition in this homework.\n",
    "\n",
    "The inner product induces a norm,\n",
    "$$ \\lVert u \\rVert = \\sqrt{\\langle u, u \\rangle} . $$\n",
    "The inner product and norm satisfy the usual properties from our Linear Algebra notebook.\n",
    "\n",
    "## Working with polynomials\n",
    "\n",
    "Numpy has functions such as `polyval`, `polymul`, `polyint` to evaluate, multiply, and integrate polynomials expressed as vectors of coefficients."
   ]
  },
  {
   "cell_type": "code",
   "execution_count": 1,
   "metadata": {},
   "outputs": [
    {
     "data": {
      "image/png": "[encoded data removed]",
      "text/plain": [
       "<Figure size 576x396 with 1 Axes>"
      ]
     },
     "metadata": {},
     "output_type": "display_data"
    }
   ],
   "source": [
    "%matplotlib inline\n",
    "import numpy as np\n",
    "import matplotlib.pyplot as plt\n",
    "plt.style.use('seaborn')\n",
    "from IPython.display import display, Math\n",
    "\n",
    "def polystring(p):\n",
    "    \"\"\"Construct a string representation of the polynomial.\n",
    "    \n",
    "    You don't need to understand this function, it is only\n",
    "    used to annotate plots and clearly view polynomials.\n",
    "    \"\"\"\n",
    "    n = len(p) - 1\n",
    "    return '{}'.format(' + '.join(\n",
    "        ['{}x^{}'.format(a, n-i) for i,a in enumerate(p) if a != 0]))\n",
    "\n",
    "def polyplot(p, length=1, label=None):\n",
    "    \"\"\"Plot a polynomial p(x) defined by its coefficients\n",
    "      p[0]*x^n + p[1]*x^(n-1) + ... + p[n-1]*x + p[n]\n",
    "    where n = len(p)-1.  We evaluate the polynomial using\n",
    "    numpy.polyval.\n",
    "    \"\"\"\n",
    "    x = np.linspace(-length, length)\n",
    "    y = np.polyval(p, x)\n",
    "    n = len(p) - 1\n",
    "    if label is None:\n",
    "        label = '$' + polystring(p) + '$'\n",
    "    plt.plot(x, y, label=label)\n",
    "    \n",
    "polyplot([0, 1, .5], 3)\n",
    "polyplot([-.5, 0, 2], 3)\n",
    "plt.legend();"
   ]
  },
  {
   "cell_type": "markdown",
   "metadata": {
    "deletable": false,
    "editable": false,
    "nbgrader": {
     "cell_type": "markdown",
     "checksum": "97a1a7ad2e2504b647fa1dd17ebd6f64",
     "grade": false,
     "grade_id": "cell-5c6fe54ec8652128",
     "locked": true,
     "schema_version": 3,
     "solution": false
    }
   },
   "source": [
    "The polynomial manipulation functions such as `polyint` are $O(n)$ (linear time) operations on lists or arrays.  We'll start by implementing `polyint`, which computes the indefinite integral\n",
    "$$ P(x) = \\int p(x) \\mathrm{d} x, $$\n",
    "i.e., $P'(x) = p(x)$.\n",
    "Note that the antiderivative $P(x)$ is a polynomial determined only up to an integration constant, which you may choose arbitrarily."
   ]
  },
  {
   "cell_type": "code",
   "execution_count": 5,
   "metadata": {
    "deletable": false,
    "nbgrader": {
     "cell_type": "code",
     "checksum": "4ca04a368e2b4e12026c367e577a8e71",
     "grade": false,
     "grade_id": "cell-75b274348ac04d77",
     "locked": false,
     "schema_version": 3,
     "solution": true
    }
   },
   "outputs": [
    {
     "data": {
      "text/latex": [
       "$\\displaystyle p(x) = 4x^3 + 3x^2 + 2x^1 + 1x^0$"
      ],
      "text/plain": [
       "<IPython.core.display.Math object>"
      ]
     },
     "metadata": {},
     "output_type": "display_data"
    },
    {
     "name": "stdout",
     "output_type": "stream",
     "text": [
      "[4, 3, 2, 1]\n"
     ]
    },
    {
     "ename": "NotImplementedError",
     "evalue": "",
     "output_type": "error",
     "traceback": [
      "\u001b[0;31m---------------------------------------------------------------------------\u001b[0m",
      "\u001b[0;31mNotImplementedError\u001b[0m                       Traceback (most recent call last)",
      "\u001b[0;32m<ipython-input-5-2b9e3e1bffed>\u001b[0m in \u001b[0;36m<module>\u001b[0;34m\u001b[0m\n\u001b[1;32m     13\u001b[0m \u001b[0mp\u001b[0m \u001b[0;34m=\u001b[0m \u001b[0;34m[\u001b[0m\u001b[0;36m4\u001b[0m\u001b[0;34m,\u001b[0m \u001b[0;36m3\u001b[0m\u001b[0;34m,\u001b[0m \u001b[0;36m2\u001b[0m\u001b[0;34m,\u001b[0m \u001b[0;36m1\u001b[0m\u001b[0;34m]\u001b[0m\u001b[0;34m\u001b[0m\u001b[0;34m\u001b[0m\u001b[0m\n\u001b[1;32m     14\u001b[0m \u001b[0mdisplay\u001b[0m\u001b[0;34m(\u001b[0m\u001b[0mMath\u001b[0m\u001b[0;34m(\u001b[0m\u001b[0;34m'p(x) = '\u001b[0m \u001b[0;34m+\u001b[0m \u001b[0mpolystring\u001b[0m\u001b[0;34m(\u001b[0m\u001b[0mp\u001b[0m\u001b[0;34m)\u001b[0m\u001b[0;34m)\u001b[0m\u001b[0;34m)\u001b[0m\u001b[0;34m\u001b[0m\u001b[0;34m\u001b[0m\u001b[0m\n\u001b[0;32m---> 15\u001b[0;31m \u001b[0mP\u001b[0m \u001b[0;34m=\u001b[0m \u001b[0mmy_polyint\u001b[0m\u001b[0;34m(\u001b[0m\u001b[0mp\u001b[0m\u001b[0;34m)\u001b[0m\u001b[0;34m\u001b[0m\u001b[0;34m\u001b[0m\u001b[0m\n\u001b[0m\u001b[1;32m     16\u001b[0m \u001b[0mdisplay\u001b[0m\u001b[0;34m(\u001b[0m\u001b[0mMath\u001b[0m\u001b[0;34m(\u001b[0m\u001b[0;34m'P(x) = '\u001b[0m \u001b[0;34m+\u001b[0m \u001b[0mpolystring\u001b[0m\u001b[0;34m(\u001b[0m\u001b[0mP\u001b[0m\u001b[0;34m)\u001b[0m\u001b[0;34m)\u001b[0m\u001b[0;34m)\u001b[0m\u001b[0;34m\u001b[0m\u001b[0;34m\u001b[0m\u001b[0m\n",
      "\u001b[0;32m<ipython-input-5-2b9e3e1bffed>\u001b[0m in \u001b[0;36mmy_polyint\u001b[0;34m(p)\u001b[0m\n\u001b[1;32m      8\u001b[0m     \u001b[0;31m# YOUR CODE HERE\u001b[0m\u001b[0;34m\u001b[0m\u001b[0;34m\u001b[0m\u001b[0;34m\u001b[0m\u001b[0m\n\u001b[1;32m      9\u001b[0m     \u001b[0mprint\u001b[0m\u001b[0;34m(\u001b[0m\u001b[0mp\u001b[0m\u001b[0;34m)\u001b[0m\u001b[0;34m\u001b[0m\u001b[0;34m\u001b[0m\u001b[0m\n\u001b[0;32m---> 10\u001b[0;31m     \u001b[0;32mraise\u001b[0m \u001b[0mNotImplementedError\u001b[0m\u001b[0;34m(\u001b[0m\u001b[0;34m)\u001b[0m\u001b[0;34m\u001b[0m\u001b[0;34m\u001b[0m\u001b[0m\n\u001b[0m\u001b[1;32m     11\u001b[0m     \u001b[0;32mreturn\u001b[0m \u001b[0mpint\u001b[0m\u001b[0;34m\u001b[0m\u001b[0;34m\u001b[0m\u001b[0m\n\u001b[1;32m     12\u001b[0m \u001b[0;34m\u001b[0m\u001b[0m\n",
      "\u001b[0;31mNotImplementedError\u001b[0m: "
     ]
    }
   ],
   "source": [
    "def my_polyint(p):\n",
    "    \"\"\"Without using library functions, compute an indefinite integral\n",
    "    of p(x) expressed as a polynomial of degree 1 higher than the\n",
    "    degree of p.  The constant of integration may be chosen arbitrarily.\n",
    "    \"\"\"\n",
    "    n = len(p) - 1\n",
    "    pint = np.zeros(n+2) # Array to hold the indefinite integral\n",
    "    # YOUR CODE HERE\n",
    "    print(p)\n",
    "    raise NotImplementedError()\n",
    "    return pint\n",
    "\n",
    "p = [4, 3, 2, 1]\n",
    "display(Math('p(x) = ' + polystring(p)))\n",
    "P = my_polyint(p)\n",
    "display(Math('P(x) = ' + polystring(P)))"
   ]
  },
  {
   "cell_type": "code",
   "execution_count": null,
   "metadata": {
    "deletable": false,
    "editable": false,
    "nbgrader": {
     "cell_type": "code",
     "checksum": "eb858550e2dbb0ac5c878b94369d5fb0",
     "grade": true,
     "grade_id": "cell-621d0734e65812e8",
     "locked": true,
     "points": 1,
     "schema_version": 3,
     "solution": false
    }
   },
   "outputs": [],
   "source": [
    "def check_polyint(p):\n",
    "    P = my_polyint(p)\n",
    "    Pnumpy = np.polyint(p)\n",
    "    xs = np.linspace(-2, 2, 4)\n",
    "    assert np.allclose(np.polyval(P, xs) - np.polyval(P, 0),\n",
    "                       np.polyval(Pnumpy, xs) - np.polyval(Pnumpy, 0))\n",
    "    \n",
    "check_polyint([1, 1])\n",
    "check_polyint([3, -2, 0, 1, 2])\n",
    "print('Tests pass')"
   ]
  },
  {
   "cell_type": "code",
   "execution_count": null,
   "metadata": {},
   "outputs": [],
   "source": [
    "# Polynomials can be multiplied using polymul\n",
    "def test_mul():\n",
    "    p = [.5, 1] # x/2 + 1\n",
    "    q = [1, -1] # x - 1\n",
    "    r = [1, -2] # x - 2\n",
    "    polyplot(p, 3) # root at -2\n",
    "    polyplot(q, 3) # root at 1\n",
    "    polyplot(r, 3) # root at 2\n",
    "    polyplot(np.polymul(p, q), 3) # roots at -2, 1\n",
    "    polyplot(np.polymul(p, r), 3) # roots at -2, 2\n",
    "    polyplot(np.polymul(p, np.polymul(q, r)), 3) # all 3 roots\n",
    "    plt.legend()\n",
    "    x = np.array([-2, 1, 2])\n",
    "    plt.plot(x, 0*x, 'ko')\n",
    "    \n",
    "test_mul()"
   ]
  },
  {
   "cell_type": "markdown",
   "metadata": {
    "deletable": false,
    "editable": false,
    "nbgrader": {
     "cell_type": "markdown",
     "checksum": "d86b6616a05eaab9883276c2d6884c7b",
     "grade": false,
     "grade_id": "cell-24e4b53ea1d52d19",
     "locked": true,
     "schema_version": 3,
     "solution": false
    }
   },
   "source": [
    "### Inner products of polynomials\n",
    "\n",
    "We will use the $L^2$ inner product,\n",
    "$$ \\langle u, v \\rangle = \\int_{-1}^1 u(x) v(x) \\mathrm{d} x $$\n",
    "restricted to the case where $u(x)$ and $v(x)$ are polynomials."
   ]
  },
  {
   "cell_type": "code",
   "execution_count": null,
   "metadata": {
    "deletable": false,
    "nbgrader": {
     "cell_type": "code",
     "checksum": "9bfc91859d553bbe057a6d453af7738b",
     "grade": false,
     "grade_id": "cell-605e164f7b66ad52",
     "locked": false,
     "schema_version": 3,
     "solution": true
    }
   },
   "outputs": [],
   "source": [
    "def poly_inner_product(u, v):\n",
    "    \"\"\"Use np.polymul and np.polyint to define the L2 inner product\n",
    "    of u and v on the interval (-1, 1).  Both u and v are polynomials\n",
    "    expressed as arrays in the usual way.\n",
    "    \"\"\"\n",
    "    # YOUR CODE HERE\n",
    "    raise NotImplementedError()\n",
    "\n",
    "def print_inner_product(u, v):\n",
    "    display(Math(r'\\langle {}, {} \\rangle = {}'\n",
    "             .format(polystring(u),\n",
    "                     polystring(v), \n",
    "                     poly_inner_product(u, v))))\n",
    "print_inner_product([1], [1, 0])\n",
    "print_inner_product([1, 0, 0], [1])"
   ]
  },
  {
   "cell_type": "code",
   "execution_count": null,
   "metadata": {
    "deletable": false,
    "editable": false,
    "nbgrader": {
     "cell_type": "code",
     "checksum": "9568d6a88c1f3bbbe8824049c3983ded",
     "grade": true,
     "grade_id": "cell-ddcadc2ddc4fdff8",
     "locked": true,
     "points": 1,
     "schema_version": 3,
     "solution": false
    }
   },
   "outputs": [],
   "source": [
    "assert np.isclose(poly_inner_product([3,0,-1], [1]), 0)\n",
    "assert np.isclose(poly_inner_product([3,0,-1], [5,0,-3,0]), 0)\n",
    "assert np.isclose(poly_inner_product([1,0], [5,0,-3,0]), 0)\n",
    "assert np.isclose(poly_inner_product([3,2,1], [4,0,3,1]), 11.2)"
   ]
  },
  {
   "cell_type": "code",
   "execution_count": null,
   "metadata": {
    "deletable": false,
    "nbgrader": {
     "cell_type": "code",
     "checksum": "e8e56a9cdd523d7f964221b0b08e7e44",
     "grade": false,
     "grade_id": "cell-c34c8641acfc849c",
     "locked": false,
     "schema_version": 3,
     "solution": true
    }
   },
   "outputs": [],
   "source": [
    "def poly_norm(p):\n",
    "    \"\"\"Compute the norm of the polynomial p(x) induced by poly_inner_product().\n",
    "    \"\"\"\n",
    "    # YOUR CODE HERE\n",
    "    raise NotImplementedError()"
   ]
  },
  {
   "cell_type": "code",
   "execution_count": null,
   "metadata": {
    "deletable": false,
    "editable": false,
    "nbgrader": {
     "cell_type": "code",
     "checksum": "71a581ff8b3013c292302334f564c34f",
     "grade": true,
     "grade_id": "cell-8635992cbefb99f0",
     "locked": true,
     "points": 1,
     "schema_version": 3,
     "solution": false
    }
   },
   "outputs": [],
   "source": [
    "assert np.isclose(poly_norm([1]), np.sqrt(2))\n",
    "assert np.isclose(poly_norm([1,0]), np.sqrt(2/3))\n",
    "assert np.isclose(poly_norm([3, 0, -1]), np.sqrt(8/5))\n",
    "print('Tests pass')"
   ]
  },
  {
   "cell_type": "markdown",
   "metadata": {
    "deletable": false,
    "editable": false,
    "nbgrader": {
     "cell_type": "markdown",
     "checksum": "7e71cfbb013f2d8ad40767f4e6e2bbec",
     "grade": false,
     "grade_id": "cell-a499c3b1ed739c5e",
     "locked": true,
     "schema_version": 3,
     "solution": false
    }
   },
   "source": [
    "# Orthogonalization of polynomials\n",
    "\n",
    "We will use the Gram-Schmidt algorithm to orthogonalize the monomials with respect to the $L^2$ inner product."
   ]
  },
  {
   "cell_type": "code",
   "execution_count": null,
   "metadata": {
    "deletable": false,
    "editable": false,
    "nbgrader": {
     "cell_type": "code",
     "checksum": "f866dcb0703dd06f613a6d2c4d506daf",
     "grade": false,
     "grade_id": "cell-d18dbc90ac8c9378",
     "locked": true,
     "schema_version": 3,
     "solution": false
    }
   },
   "outputs": [],
   "source": [
    "def monomials(n):\n",
    "    \"\"\"Return a list of the first n monomials in order of increasing degree.\n",
    "    We will think of this as a \"tall\" matrix indexed by its n+1 columns.\n",
    "    Each column contains a polynomial.\n",
    "    \"\"\"\n",
    "    A = []\n",
    "    for i in range(n):\n",
    "        p = np.zeros(i+1)\n",
    "        p[0] = 1\n",
    "        A.append(p)\n",
    "    return A\n",
    "\n",
    "for i, p in enumerate(monomials(6)):\n",
    "    polyplot(p)\n",
    "    display(Math('a_{} = {}'.format(i, polystring(p))))\n",
    "plt.legend()\n",
    "plt.title('Columns of matrix $A$');"
   ]
  },
  {
   "cell_type": "markdown",
   "metadata": {
    "deletable": false,
    "editable": false,
    "nbgrader": {
     "cell_type": "markdown",
     "checksum": "6affb110706427863a19db6620fd7a06",
     "grade": false,
     "grade_id": "cell-adbee001d7f50e1e",
     "locked": true,
     "schema_version": 3,
     "solution": false
    }
   },
   "source": [
    "## Projections\n",
    "\n",
    "Polynomials can be projected just like vectors.  For example, if $q$ is normalized,\n",
    "$$ q \\, \\langle q, p \\rangle $$ is the orthogonal projection of $p$ into the subspace of $q$, and\n",
    "$$ p - q\\, \\langle q, p \\rangle $$\n",
    "is the part orthogonal to $q$."
   ]
  },
  {
   "cell_type": "code",
   "execution_count": null,
   "metadata": {
    "deletable": false,
    "editable": false,
    "nbgrader": {
     "cell_type": "code",
     "checksum": "24eb894a1d8edb1a0d1c8018b81594d5",
     "grade": false,
     "grade_id": "cell-efc19e704a23084d",
     "locked": true,
     "schema_version": 3,
     "solution": false
    }
   },
   "outputs": [],
   "source": [
    "def poly_project_orthog(p, q):\n",
    "    \"\"\"Find the component of p(x) that is orthogonal to the normalized\n",
    "    polynomial q(x).\n",
    "    \"\"\"\n",
    "    c = poly_inner_product(p, q) # length of p in direction q\n",
    "    # polysub is just subtraction of arrays, but lines them up correctly\n",
    "    # in case they are different lengths\n",
    "    return np.polysub(p, c * q) # p - c q\n",
    "\n",
    "def test_project():\n",
    "    A = monomials(5)\n",
    "    polyplot(A[1])\n",
    "    polyplot(A[3])\n",
    "    print_inner_product(A[1], A[3])\n",
    "    p1 = A[1] / poly_norm(A[1])\n",
    "    display(Math(r'\\lVert p_1 \\rVert = {}'.format(poly_norm(p1))))\n",
    "    polyplot(p1)\n",
    "    p3 = poly_project_orthog(A[3], p1)\n",
    "    polyplot(p3)\n",
    "    print_inner_product(A[1], p3)\n",
    "    plt.legend()\n",
    "\n",
    "test_project()"
   ]
  },
  {
   "cell_type": "markdown",
   "metadata": {
    "deletable": false,
    "editable": false,
    "nbgrader": {
     "cell_type": "markdown",
     "checksum": "5e037b2c90a74bf0cfd37b0bab55877b",
     "grade": false,
     "grade_id": "cell-a890524c74193d8c",
     "locked": true,
     "schema_version": 3,
     "solution": false
    }
   },
   "source": [
    "## Polynomial matrix multiplication\n",
    "\n",
    "We have discussed the matrix product $A x$ being a linear combination of the columns of $A$.\n",
    "If $A$ is a polynomial matrix with $m$ columns (we'll say it has shape `(*,m)`), then\n",
    "$$ A x = \\sum_i A_{:,i} x_i . $$\n",
    "Similarly, if $B$ is a $m\\times n$ matrix (i.e., shape `(m,n)`), then the $j$th column of $C = AB$ is\n",
    "$$ C_{:,j} = \\sum_k A_{:,k} B_{k,j} . $$\n",
    "The matrix $C$ is also a polynomial matrix, now with shape `(*,n)`."
   ]
  },
  {
   "cell_type": "code",
   "execution_count": null,
   "metadata": {
    "deletable": false,
    "nbgrader": {
     "cell_type": "code",
     "checksum": "140149a41fbef51830694c6446400deb",
     "grade": false,
     "grade_id": "cell-a0cc1186ab89c527",
     "locked": false,
     "schema_version": 3,
     "solution": true
    }
   },
   "outputs": [],
   "source": [
    "def poly_matmul(A, B):\n",
    "    \"\"\"Multiply a polynomial matrix A of shape (*,m) times\n",
    "    a matrix B of shape (m,n) to yield a polynomial matrix\n",
    "    C of shape (*,n).\n",
    "    \"\"\"\n",
    "    C = []\n",
    "    m, n = B.shape\n",
    "    for i in range(n):\n",
    "        # Use numpy.polyadd to compute A * B[:,i] and\n",
    "        # append it to C (using C.append())\n",
    "        # YOUR CODE HERE\n",
    "        raise NotImplementedError()\n",
    "    return C\n",
    "\n",
    "poly_matmul(monomials(4), np.eye(4,3))"
   ]
  },
  {
   "cell_type": "code",
   "execution_count": null,
   "metadata": {
    "deletable": false,
    "editable": false,
    "nbgrader": {
     "cell_type": "code",
     "checksum": "d090078321e391fcf6b154deef06221c",
     "grade": true,
     "grade_id": "cell-19f8cc325e8ca2f9",
     "locked": true,
     "points": 1,
     "schema_version": 3,
     "solution": false
    }
   },
   "outputs": [],
   "source": [
    "def test_matmul():\n",
    "    A = monomials(4)\n",
    "    B = np.arange(8).reshape(4,2)\n",
    "    C = poly_matmul(A, B)\n",
    "    Cref = np.array([[6,4,2,0], [7,5,3,1]]).T\n",
    "    for j in range(2):\n",
    "        if not np.allclose(C[j], Cref[:,j]):\n",
    "            print('A * {} != {}'.format(B[:,j], C[j]))\n",
    "            return False\n",
    "    return True\n",
    "\n",
    "assert test_matmul()"
   ]
  },
  {
   "cell_type": "markdown",
   "metadata": {
    "deletable": false,
    "editable": false,
    "nbgrader": {
     "cell_type": "markdown",
     "checksum": "bc3db6292368a87379aad723614603a2",
     "grade": false,
     "grade_id": "cell-c4ebff0477f4f030",
     "locked": true,
     "schema_version": 3,
     "solution": false
    }
   },
   "source": [
    "## QR factorization of monomials\n",
    "\n",
    "We can apply the Gram-Schmidt process to compute a QR factorization of the monomials.\n",
    "This will yield an orthogonal basis of polynomials."
   ]
  },
  {
   "cell_type": "code",
   "execution_count": null,
   "metadata": {
    "deletable": false,
    "nbgrader": {
     "cell_type": "code",
     "checksum": "a243d79f3f10ab25740c3b77fe200277",
     "grade": false,
     "grade_id": "cell-13086b6065b70847",
     "locked": false,
     "schema_version": 3,
     "solution": true
    }
   },
   "outputs": [],
   "source": [
    "def poly_qr(A):\n",
    "    \"\"\"Compute a reduced QR factorization of the polynomials in the columns of A\n",
    "    using the Gram-Schmidt algorithm.  The factor Q will be a list of polynomials\n",
    "    and R will be a square matrix.\n",
    "    \"\"\"\n",
    "    Q = []\n",
    "    n = len(A)\n",
    "    R = np.zeros((n, n))\n",
    "    for i in range(n):\n",
    "        # YOUR CODE HERE\n",
    "        raise NotImplementedError()\n",
    "    return Q, R\n",
    "\n",
    "Q, R = poly_qr(monomials(4))\n",
    "for j, col in enumerate(Q):\n",
    "    display(Math('q_{} = {}'.format(j, polystring(col))))\n",
    "print(R)"
   ]
  },
  {
   "cell_type": "code",
   "execution_count": null,
   "metadata": {
    "deletable": false,
    "editable": false,
    "nbgrader": {
     "cell_type": "code",
     "checksum": "7ac8b82c7f44637a5b2e0e3f1e72d1df",
     "grade": false,
     "grade_id": "cell-c2d5b20fecfb9575",
     "locked": true,
     "schema_version": 3,
     "solution": false
    }
   },
   "outputs": [],
   "source": [
    "def poly_QtQ(Q):\n",
    "    \"\"\"Compute Q.T @ Q where Q is a matrix of polynomials\n",
    "    expressed as a list of columns.\n",
    "    \"\"\"\n",
    "    n = len(Q)\n",
    "    A = np.zeros((n, n))\n",
    "    for i in range(n):\n",
    "        for j in range(n):\n",
    "            A[i,j] = poly_inner_product(Q[i], Q[j])\n",
    "    return A\n",
    "\n",
    "def poly_matsub(A, B):\n",
    "    \"\"\"Compute A - B where A and B are matrices of polynomials\n",
    "    expressed as lists of columns.\n",
    "    \"\"\"\n",
    "    C = []\n",
    "    for i in range(len(A)):\n",
    "        C.append(np.polysub(A[i], B[i]))\n",
    "    return C\n",
    "\n",
    "def test_qr(n, verbose=0, qr=poly_qr):\n",
    "    A = monomials(n)\n",
    "    Q, R = qr(A)\n",
    "    QtQ = poly_QtQ(Q)\n",
    "    QR_err = poly_matsub(poly_matmul(Q, R), A)\n",
    "    if verbose > 1:\n",
    "        print('Q.T @ Q\\n{}'.format(QtQ))\n",
    "        print('Q @ R - A\\n{}'.format(QR_err))\n",
    "    QtQ_err_norm = np.linalg.norm(QtQ - np.eye(n))\n",
    "    QR_err_norm = max([poly_norm(col) for col in QR_err])\n",
    "    if verbose > 0:\n",
    "        print('|| Q.T @ Q - I || = {}'.format(QtQ_err_norm))\n",
    "        print('max col norm (Q @ R - A) = {}'.format(QR_err_norm))\n",
    "    return QtQ_err_norm, QR_err_norm\n",
    "    \n",
    "test_qr(3, verbose=2);"
   ]
  },
  {
   "cell_type": "code",
   "execution_count": null,
   "metadata": {},
   "outputs": [],
   "source": [
    "# The Q factor loses orthogonality as the maximum degree is increased.\n",
    "# We will discuss algorithms that produce more orthogonal factors in class.\n",
    "test_qr(15, verbose=1);"
   ]
  },
  {
   "cell_type": "code",
   "execution_count": null,
   "metadata": {
    "deletable": false,
    "editable": false,
    "nbgrader": {
     "cell_type": "code",
     "checksum": "d9c7371590781992c402be0fa9674a35",
     "grade": true,
     "grade_id": "cell-2bfd0a2b877cb8be",
     "locked": true,
     "points": 2,
     "schema_version": 3,
     "solution": false
    }
   },
   "outputs": [],
   "source": [
    "assert np.allclose(test_qr(5), (0,0))\n",
    "assert np.allclose(test_qr(10), (0,0))"
   ]
  },
  {
   "cell_type": "markdown",
   "metadata": {
    "deletable": false,
    "editable": false,
    "nbgrader": {
     "cell_type": "markdown",
     "checksum": "6a534a896834ffd9c9b2bc8720f8cc48",
     "grade": false,
     "grade_id": "cell-aa9aaf552b2bb451",
     "locked": true,
     "schema_version": 3,
     "solution": false
    }
   },
   "source": [
    "## Normalization\n",
    "\n",
    "Our QR factorization is normalized using the $L^2$ norm."
   ]
  },
  {
   "cell_type": "code",
   "execution_count": null,
   "metadata": {},
   "outputs": [],
   "source": [
    "def poly_plotmat(A):\n",
    "    for i, p in enumerate(A):\n",
    "        polyplot(p, label='p{}'.format(i))\n",
    "    plt.legend()\n",
    "\n",
    "Q, _ = poly_qr(monomials(5))\n",
    "poly_plotmat(Q)"
   ]
  },
  {
   "cell_type": "markdown",
   "metadata": {},
   "source": [
    "This set of polynomials is actually famous, but with the normalization $p(1) = 1$ instead of the $L^2$ normalization $ \\langle p(x), p(x) \\rangle = 1$.\n",
    "Let's convert our $QR$ factorization to use this different normalization convention."
   ]
  },
  {
   "cell_type": "code",
   "execution_count": null,
   "metadata": {
    "deletable": false,
    "nbgrader": {
     "cell_type": "code",
     "checksum": "d767624b1e67e84415aa10848c3714b2",
     "grade": false,
     "grade_id": "cell-015bc866585e3acb",
     "locked": false,
     "schema_version": 3,
     "solution": true
    }
   },
   "outputs": [],
   "source": [
    "def poly_qr_norm1(A):\n",
    "    \"\"\"Compute a QR factorization with the normalization convention that\n",
    "    q(1) = 1 for each column of Q.  This can be constructed by modifying\n",
    "    the standard QR factorization (scaling the columns of Q and absorbing\n",
    "    that scaling factor into R).\n",
    "    \n",
    "    The resulting matrix Q should have columns that are orthogonal with \n",
    "    respect to the L2 inner product, but they will not be normalized with\n",
    "    respect to that product.  Consequently, Q^T Q will be diagonal, but\n",
    "    not the identity.\n",
    "    \n",
    "    The factors should still satisfy Q R = A.\n",
    "    \"\"\"\n",
    "    Q, R = poly_qr(A)\n",
    "    m, n = R.shape\n",
    "    # Loop over columns of Q (and rows of R).\n",
    "    # Use numpy.polyval() to evaluate each column at x=1 and use that\n",
    "    # normalization to scale the column of Q and corresponding entries\n",
    "    # of R.\n",
    "    # YOUR CODE HERE\n",
    "    raise NotImplementedError()\n",
    "    return Q, R\n",
    "\n",
    "Q, R = poly_qr_norm1(monomials(4))\n",
    "print(poly_QtQ(Q))\n",
    "poly_plotmat(Q)"
   ]
  },
  {
   "cell_type": "code",
   "execution_count": null,
   "metadata": {
    "deletable": false,
    "editable": false,
    "nbgrader": {
     "cell_type": "code",
     "checksum": "5169a2114382e69da721d843940caa90",
     "grade": true,
     "grade_id": "cell-e8a29a9cf41f3c70",
     "locked": true,
     "points": 1,
     "schema_version": 3,
     "solution": false
    }
   },
   "outputs": [],
   "source": [
    "assert np.allclose(test_qr(4, qr=poly_qr_norm1), (1.4075919837594146, 0))\n",
    "print('Tests pass')"
   ]
  },
  {
   "cell_type": "code",
   "execution_count": null,
   "metadata": {},
   "outputs": [],
   "source": [
    "Q, R = poly_qr_norm1(monomials(6))\n",
    "print(poly_QtQ(Q).diagonal())\n",
    "# There is an analytic formula for this normalizing factor\n",
    "print(np.array([2 / (2*i+1) for i in range(6)]))"
   ]
  },
  {
   "cell_type": "markdown",
   "metadata": {
    "deletable": false,
    "editable": false,
    "nbgrader": {
     "cell_type": "markdown",
     "checksum": "72fef189d621e051fd20c4cfc95c397f",
     "grade": false,
     "grade_id": "cell-dcfa15769033a94d",
     "locked": true,
     "schema_version": 3,
     "solution": false
    }
   },
   "source": [
    "## Outlook\n",
    "\n",
    "* The zeros of these orthogonal polynomials (columns of $Q$) are particularly significant for representing functions and for numerical integration.\n",
    "* We will compute the zeros efficiently using Newton's method and a carefully chosen initial guess.\n",
    "* These polynomials satisfy a recurrence relation that also provides a more stable way to evaluate them (versus `np.polyval`)."
   ]
  }
 ],
 "metadata": {
  "kernelspec": {
   "display_name": "Python 3",
   "language": "python",
   "name": "python3"
  },
  "language_info": {
   "codemirror_mode": {
    "name": "ipython",
    "version": 3
   },
   "file_extension": ".py",
   "mimetype": "text/x-python",
   "name": "python",
   "nbconvert_exporter": "python",
   "pygments_lexer": "ipython3",
   "version": "3.6.7"
  }
 },
 "nbformat": 4,
 "nbformat_minor": 2
}
