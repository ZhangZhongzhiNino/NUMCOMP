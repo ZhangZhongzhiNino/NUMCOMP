{
 "cells": [
  {
   "cell_type": "markdown",
   "metadata": {},
   "source": [
    "Before you turn this problem in, make sure everything runs as expected. First, **restart the kernel** (in the menubar, select Kernel$\\rightarrow$Restart) and then **run all cells** (in the menubar, select Cell$\\rightarrow$Run All).\n",
    "\n",
    "Make sure you fill in any place that says `YOUR CODE HERE` or \"YOUR ANSWER HERE\", as well as your name and collaborators below:"
   ]
  },
  {
   "cell_type": "code",
   "execution_count": 1,
   "metadata": {},
   "outputs": [],
   "source": [
    "NAME = \"Zhongzhi Zhang (Nino)\"\n",
    "COLLABORATORS = \"\""
   ]
  },
  {
   "cell_type": "markdown",
   "metadata": {},
   "source": [
    "---"
   ]
  },
  {
   "cell_type": "markdown",
   "metadata": {},
   "source": [
    "# Newton's method for rational functions\n",
    "\n",
    "Newton's method solves $f(x) = 0$ using a first order Taylor approximation at each point.  We can use it to compute square roots and related functions.  Sample code for Newton's method is provided."
   ]
  },
  {
   "cell_type": "code",
   "execution_count": 2,
   "metadata": {},
   "outputs": [],
   "source": [
    "%matplotlib inline\n",
    "import matplotlib.pyplot as plt\n",
    "plt.style.use('ggplot')\n",
    "import numpy as np\n",
    "\n",
    "def newton(func, x, verbose=False):\n",
    "    \"\"\"Solve f(x) = 0 using initial guess x.\n",
    "    \n",
    "    The provided function func must return a pair of values,\n",
    "    f(x) and its derivative f'(x).  For example, to solve\n",
    "    the equation x^2 - 3 starting from initial guess x=1,\n",
    "    one would write\n",
    "    \n",
    "    def func(x):\n",
    "        return x**2 - 3, 2*x\n",
    "        \n",
    "    newton(f, 1)\n",
    "    \"\"\"\n",
    "    for i in range(100):\n",
    "        fx, dfx = func(x)\n",
    "        if verbose:\n",
    "            print(func.__name__, i, x, fx)\n",
    "        if np.abs(fx) < 1e-12:\n",
    "            return x, fx, i\n",
    "        try:\n",
    "            x -= fx / dfx\n",
    "        except ZeroDivisionError:\n",
    "            return x, np.NaN, i"
   ]
  },
  {
   "cell_type": "markdown",
   "metadata": {},
   "source": [
    "## Square root\n",
    "\n",
    "We can estimate $\\sqrt{a}$ as the root of $f(x) = x^2 - a$."
   ]
  },
  {
   "cell_type": "code",
   "execution_count": 3,
   "metadata": {},
   "outputs": [
    {
     "name": "stdout",
     "output_type": "stream",
     "text": [
      "func 0 1 -3\n",
      "func 1 2.5 2.25\n",
      "func 2 2.05 0.20249999999999968\n",
      "func 3 2.000609756097561 0.002439396192741583\n",
      "func 4 2.0000000929222947 3.716891878724482e-07\n",
      "func 5 2.000000000000002 8.881784197001252e-15\n"
     ]
    },
    {
     "data": {
      "text/plain": [
       "2.000000000000002"
      ]
     },
     "execution_count": 3,
     "metadata": {},
     "output_type": "execute_result"
    }
   ],
   "source": [
    "def my_sqrt(a, guess=1, verbose=False):\n",
    "    \"\"\"Compute sqrt(a) using Newton's method.\n",
    "    \"\"\"\n",
    "    def func(x):\n",
    "        return x**2 - a, 2*x\n",
    "    value, residual, numits = newton(func, guess, verbose)\n",
    "    return value\n",
    "\n",
    "my_sqrt(4, guess=1, verbose=True)"
   ]
  },
  {
   "cell_type": "markdown",
   "metadata": {},
   "source": [
    "* Experiment to see if there are positive values of `a` and/or `guess` for which this does not converge."
   ]
  },
  {
   "cell_type": "markdown",
   "metadata": {},
   "source": [
    "## Reciprocal square root\n",
    "\n",
    "Similar to the above, express the reciprocal square root $1/\\sqrt{a}$ as a rootfinding problem."
   ]
  },
  {
   "cell_type": "code",
   "execution_count": 4,
   "metadata": {
    "deletable": false,
    "nbgrader": {
     "cell_type": "code",
     "checksum": "6f88f776261b72ade6b01770bb3b0444",
     "grade": false,
     "grade_id": "cell-d432be9e53e38a15",
     "locked": false,
     "schema_version": 3,
     "solution": true,
     "task": false
    }
   },
   "outputs": [
    {
     "name": "stdout",
     "output_type": "stream",
     "text": [
      "func 0 0.5 -5.0\n",
      "func 1 0.1875 19.444444444444443\n",
      "func 2 0.2515869140625 6.798792811486441\n",
      "func 3 0.30572039512026095 1.6991967907584549\n",
      "func 4 0.3299969424357781 0.182906620291984\n",
      "func 5 0.3332834086900596 0.0026965365279654208\n",
      "func 6 0.3333333221177783 6.056400039256005e-07\n",
      "func 7 0.33333333333333276 3.019806626980426e-14\n"
     ]
    },
    {
     "data": {
      "text/plain": [
       "0.33333333333333276"
      ]
     },
     "execution_count": 4,
     "metadata": {},
     "output_type": "execute_result"
    }
   ],
   "source": [
    "def my_rsqrt(a, guess=.5, verbose=False):\n",
    "    \"\"\"Compute 1/sqrt(a) using Newton's method.\n",
    "    \"\"\"\n",
    "    def func(x):\n",
    "        # YOUR CODE HERE\n",
    "        return 1/x**2 - a, -2/x**3\n",
    "        raise NotImplementedError()\n",
    "    value, residual, numits = newton(func, guess, verbose)\n",
    "    return value\n",
    "\n",
    "my_rsqrt(9, guess=.5, verbose=True)"
   ]
  },
  {
   "cell_type": "code",
   "execution_count": 5,
   "metadata": {
    "deletable": false,
    "editable": false,
    "nbgrader": {
     "cell_type": "code",
     "checksum": "8ebdc46fdf40ae7ca32f9d085b15346d",
     "grade": true,
     "grade_id": "cell-91a6158aaab0493e",
     "locked": true,
     "points": 1,
     "schema_version": 3,
     "solution": false,
     "task": false
    }
   },
   "outputs": [
    {
     "name": "stdout",
     "output_type": "stream",
     "text": [
      "Tests pass\n"
     ]
    }
   ],
   "source": [
    "assert np.isclose(1/my_rsqrt(1.05)**2, 1.05)\n",
    "assert np.isclose(1/my_rsqrt(100, guess=.01)**2, 100)\n",
    "print(\"Tests pass\")"
   ]
  },
  {
   "cell_type": "markdown",
   "metadata": {},
   "source": [
    "### Uniqueness\n",
    "\n",
    "Find a positive value of `my_guess` for which `my_rsqrt(10, my_guess)` converges to the negative root."
   ]
  },
  {
   "cell_type": "code",
   "execution_count": 6,
   "metadata": {
    "deletable": false,
    "nbgrader": {
     "cell_type": "code",
     "checksum": "9ebd5c8d03f0dbc4e45791ba17833606",
     "grade": false,
     "grade_id": "cell-a820b936819b69a8",
     "locked": false,
     "schema_version": 3,
     "solution": true,
     "task": false
    }
   },
   "outputs": [
    {
     "name": "stdout",
     "output_type": "stream",
     "text": [
      "func 0 0.3 1.1111111111111107\n",
      "func 1 0.315 0.07810531620055272\n",
      "func 2 0.316220625 0.0004516528590485791\n",
      "func 3 0.31622776577495343 1.5298118327677912e-08\n",
      "func 4 0.31622776601683794 0.0\n"
     ]
    },
    {
     "data": {
      "text/plain": [
       "0.31622776601683794"
      ]
     },
     "execution_count": 6,
     "metadata": {},
     "output_type": "execute_result"
    }
   ],
   "source": [
    "# my_guess = SOME_NUMBER\n",
    "my_guess = 0.3\n",
    "\n",
    "# YOUR CODE HERE\n",
    "#raise NotImplementedError()\n",
    "\n",
    "my_rsqrt(10, my_guess, verbose=True)"
   ]
  },
  {
   "cell_type": "code",
   "execution_count": 7,
   "metadata": {},
   "outputs": [
    {
     "name": "stdout",
     "output_type": "stream",
     "text": [
      "Test pass\n"
     ]
    }
   ],
   "source": [
    "assert np.isclose(my_rsqrt(10, my_guess), 1/np.sqrt(10))\n",
    "print(\"Test pass\")"
   ]
  },
  {
   "cell_type": "code",
   "execution_count": 8,
   "metadata": {
    "deletable": false,
    "editable": false,
    "nbgrader": {
     "cell_type": "code",
     "checksum": "87371b5615e7cae65b38ab379f455938",
     "grade": true,
     "grade_id": "cell-13a86ac1ff4c60b7",
     "locked": true,
     "points": 1,
     "schema_version": 3,
     "solution": false,
     "task": false
    }
   },
   "outputs": [
    {
     "ename": "AssertionError",
     "evalue": "",
     "output_type": "error",
     "traceback": [
      "\u001b[0;31m---------------------------------------------------------------------------\u001b[0m",
      "\u001b[0;31mAssertionError\u001b[0m                            Traceback (most recent call last)",
      "\u001b[0;32m<ipython-input-8-64e8d857e4ce>\u001b[0m in \u001b[0;36m<module>\u001b[0;34m\u001b[0m\n\u001b[0;32m----> 1\u001b[0;31m \u001b[0;32massert\u001b[0m \u001b[0mnp\u001b[0m\u001b[0;34m.\u001b[0m\u001b[0misclose\u001b[0m\u001b[0;34m(\u001b[0m\u001b[0mmy_rsqrt\u001b[0m\u001b[0;34m(\u001b[0m\u001b[0;36m10\u001b[0m\u001b[0;34m,\u001b[0m \u001b[0mmy_guess\u001b[0m\u001b[0;34m)\u001b[0m\u001b[0;34m,\u001b[0m \u001b[0;34m-\u001b[0m\u001b[0;36m1\u001b[0m\u001b[0;34m/\u001b[0m\u001b[0mnp\u001b[0m\u001b[0;34m.\u001b[0m\u001b[0msqrt\u001b[0m\u001b[0;34m(\u001b[0m\u001b[0;36m10\u001b[0m\u001b[0;34m)\u001b[0m\u001b[0;34m)\u001b[0m\u001b[0;34m\u001b[0m\u001b[0;34m\u001b[0m\u001b[0m\n\u001b[0m\u001b[1;32m      2\u001b[0m \u001b[0mprint\u001b[0m\u001b[0;34m(\u001b[0m\u001b[0;34m\"Tests pass\"\u001b[0m\u001b[0;34m)\u001b[0m\u001b[0;34m\u001b[0m\u001b[0;34m\u001b[0m\u001b[0m\n",
      "\u001b[0;31mAssertionError\u001b[0m: "
     ]
    }
   ],
   "source": [
    "assert np.isclose(my_rsqrt(10, my_guess), -1/np.sqrt(10))\n",
    "print(\"Tests pass\")"
   ]
  },
  {
   "cell_type": "markdown",
   "metadata": {},
   "source": [
    "## Avoiding division (optional)\n",
    "\n",
    "This implementation performs division in defining the function $f(x)$ and the Newton step,\n",
    "$$ x_{\\text{next}} = x - f(x) / f'(x) . $$\n",
    "(Division is a relatively expensive operation compared to addition and multiplication.)\n",
    "Substitute the expressions you used for $f(x)$ and $f'(x)$ and simplify so that there is no division in the Newton step itself.\n",
    "Use this in a function that always does exactly five iterations and does not test for convergence, etc."
   ]
  },
  {
   "cell_type": "code",
   "execution_count": null,
   "metadata": {
    "deletable": false,
    "nbgrader": {
     "cell_type": "code",
     "checksum": "75a418edd71b0220143cd19e0ca1e2b3",
     "grade": false,
     "grade_id": "cell-6535d49fe71fd2f4",
     "locked": false,
     "schema_version": 3,
     "solution": true,
     "task": false
    }
   },
   "outputs": [],
   "source": [
    "def my_rsqrt_fast(a, guess):\n",
    "    x = guess\n",
    "    for i in range(100):\n",
    "        # Single line updating x to the next iteration,\n",
    "        # x = ...\n",
    "        # YOUR CODE HERE\n",
    "        if np.abs(1/x**2 - a) < 1e-12:\n",
    "            return x\n",
    "        x -= -0.5*x\n",
    "        raise NotImplementedError()\n",
    "    return x\n",
    "\n",
    "my_rsqrt_fast(5, .5)"
   ]
  },
  {
   "cell_type": "code",
   "execution_count": null,
   "metadata": {
    "deletable": false,
    "editable": false,
    "nbgrader": {
     "cell_type": "code",
     "checksum": "4876d8356c841dbec5049382cc7ad9b0",
     "grade": true,
     "grade_id": "cell-058d031451741601",
     "locked": true,
     "points": 1,
     "schema_version": 3,
     "solution": false,
     "task": false
    }
   },
   "outputs": [],
   "source": [
    "assert np.isclose(my_rsqrt(5, .5), 1/np.sqrt(5))\n",
    "print('Tests pass')"
   ]
  },
  {
   "cell_type": "code",
   "execution_count": null,
   "metadata": {},
   "outputs": [],
   "source": []
  }
 ],
 "metadata": {
  "kernelspec": {
   "display_name": "Python 3",
   "language": "python",
   "name": "python3"
  },
  "language_info": {
   "codemirror_mode": {
    "name": "ipython",
    "version": 3
   },
   "file_extension": ".py",
   "mimetype": "text/x-python",
   "name": "python",
   "nbconvert_exporter": "python",
   "pygments_lexer": "ipython3",
   "version": "3.6.7"
  }
 },
 "nbformat": 4,
 "nbformat_minor": 2
}
